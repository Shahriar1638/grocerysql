{
 "cells": [
  {
   "cell_type": "code",
   "execution_count": 1,
   "metadata": {},
   "outputs": [
    {
     "name": "stdout",
     "output_type": "stream",
     "text": [
      "['CMD001', 'CMD002', 'CMD003', 'CMD004', 'CMD005', 'CMD006']\n"
     ]
    }
   ],
   "source": [
    "a = ['CMD006','CMD004','CMD005','CMD002','CMD003','CMD001']\n",
    "a.reverse()\n",
    "a_id = a[0]\n",
    "prefix = a_id[:3]\n",
    "number = int(a_id[3:])\n",
    "increamentnumber = 1"
   ]
  }
 ],
 "metadata": {
  "kernelspec": {
   "display_name": "Python 3",
   "language": "python",
   "name": "python3"
  },
  "language_info": {
   "codemirror_mode": {
    "name": "ipython",
    "version": 3
   },
   "file_extension": ".py",
   "mimetype": "text/x-python",
   "name": "python",
   "nbconvert_exporter": "python",
   "pygments_lexer": "ipython3",
   "version": "3.11.4"
  }
 },
 "nbformat": 4,
 "nbformat_minor": 2
}
